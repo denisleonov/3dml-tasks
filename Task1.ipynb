{
  "nbformat": 4,
  "nbformat_minor": 0,
  "metadata": {
    "colab": {
      "name": "Task1.ipynb",
      "provenance": []
    },
    "kernelspec": {
      "name": "python3",
      "display_name": "Python 3"
    }
  },
  "cells": [
    {
      "cell_type": "code",
      "metadata": {
        "id": "GoeelABYiuOE",
        "colab_type": "code",
        "colab": {
          "base_uri": "https://localhost:8080/",
          "height": 119
        },
        "outputId": "984155f7-be88-414d-827a-03127513060b"
      },
      "source": [
        "!git clone https://github.com/phygitalism/test-tasks-3dml.git"
      ],
      "execution_count": 1,
      "outputs": [
        {
          "output_type": "stream",
          "text": [
            "Cloning into 'test-tasks-3dml'...\n",
            "remote: Enumerating objects: 31, done.\u001b[K\n",
            "remote: Counting objects: 100% (31/31), done.\u001b[K\n",
            "remote: Compressing objects: 100% (21/21), done.\u001b[K\n",
            "remote: Total 31 (delta 7), reused 22 (delta 5), pack-reused 0\u001b[K\n",
            "Unpacking objects: 100% (31/31), done.\n"
          ],
          "name": "stdout"
        }
      ]
    },
    {
      "cell_type": "code",
      "metadata": {
        "id": "XBB56y5ZiywV",
        "colab_type": "code",
        "colab": {}
      },
      "source": [
        "import csv\n",
        "import json\n",
        "import numpy as np\n",
        "import torch"
      ],
      "execution_count": 12,
      "outputs": []
    },
    {
      "cell_type": "code",
      "metadata": {
        "id": "WzwO9RXAi0XZ",
        "colab_type": "code",
        "colab": {}
      },
      "source": [
        "with open('test-tasks-3dml/Task1/dev.json', 'r') as f:\n",
        "    data = json.load(f)"
      ],
      "execution_count": 13,
      "outputs": []
    },
    {
      "cell_type": "code",
      "metadata": {
        "id": "AHSo54IJjFZV",
        "colab_type": "code",
        "colab": {
          "base_uri": "https://localhost:8080/",
          "height": 102
        },
        "outputId": "eb604882-9e79-46f0-9b73-bc98a5dc62c4"
      },
      "source": [
        "data[0]"
      ],
      "execution_count": 14,
      "outputs": [
        {
          "output_type": "execute_result",
          "data": {
            "text/plain": [
              "{'dpdg1': 0.9571806007967657,\n",
              " 'dpdg2': 0.2429918798353707,\n",
              " 'id': 1,\n",
              " 'x1': 0.5784676164550582,\n",
              " 'x2': 0.25269502829221124}"
            ]
          },
          "metadata": {
            "tags": []
          },
          "execution_count": 14
        }
      ]
    },
    {
      "cell_type": "markdown",
      "metadata": {
        "id": "TI6SG0Lov14-",
        "colab_type": "text"
      },
      "source": [
        "Данную задачу можно воспринимать так: имеется граф вычислений без конечного единичного тензора, но имеются его родители и градиенты, которые приходят от этого тензора, нужно восстановить граф и посчитать производные для входа. Поскольку есть разрыв в графе, то распространение градиентов нужно запустить дважды (для двух листьев). Чтобы граф не строился заново, при первом вызове не будем его удалять, градиенты в таком случае аккумулируются - это как раз то, что нам нужно."
      ]
    },
    {
      "cell_type": "code",
      "metadata": {
        "id": "E48KHCGzv02J",
        "colab_type": "code",
        "colab": {}
      },
      "source": [
        "def calculate_dinput(sample):\n",
        "    x1 = torch.tensor([sample['x1']], requires_grad=True)\n",
        "    x2 = torch.tensor([sample['x2']], requires_grad=True)\n",
        "    dpdg1 = torch.tensor([sample['dpdg1']])\n",
        "    dpdg2 = torch.tensor([sample['dpdg2']])\n",
        "    \n",
        "    f1 = x1 + x2\n",
        "    f2 = x1 * x2\n",
        "    g1 = torch.tan(f1 + f2 + 100)\n",
        "    g2 = f1 * f2\n",
        "    \n",
        "    # use one graph for two backwards \n",
        "    g1.backward(dpdg1, retain_graph=True)\n",
        "    g2.backward(dpdg2)\n",
        "    \n",
        "    return x1.grad.item(), x2.grad.item()\n"
      ],
      "execution_count": 18,
      "outputs": []
    },
    {
      "cell_type": "markdown",
      "metadata": {
        "id": "yqmZjqN_w3Mj",
        "colab_type": "text"
      },
      "source": [
        "Это аналитический способ вычисления производных, используем его для проверки."
      ]
    },
    {
      "cell_type": "code",
      "metadata": {
        "id": "FkMrRne6kZJ3",
        "colab_type": "code",
        "colab": {}
      },
      "source": [
        "def analytic_calc_dinput(sample):\n",
        "    dpdg1 = sample['dpdg1']\n",
        "    dpdg2 = sample['dpdg2']\n",
        "    x1 = sample['x1']\n",
        "    x2 = sample['x2']\n",
        "\n",
        "    dg1dx1 = (x2 + 1) * (np.tan(x1 * x2 + x1 + x2 + 100)**2 + 1)\n",
        "    dg2dx1 = 2 * x1 * x2 + x2**2\n",
        "    dx1 = dpdg1 * dg1dx1 + dpdg2 * dg2dx1\n",
        "    \n",
        "    dg1dx2 = (x1 + 1) * (np.tan(x1 * x2 + x1 + x2 + 100)**2 + 1)\n",
        "    dg2dx2 = 2 * x1 * x2 + x1**2\n",
        "    dx2 = dpdg1 * dg1dx2 + dpdg2 * dg2dx2\n",
        "    \n",
        "    return dx1, dx2\n"
      ],
      "execution_count": 17,
      "outputs": []
    },
    {
      "cell_type": "markdown",
      "metadata": {
        "id": "Ml7YHQIRxahc",
        "colab_type": "text"
      },
      "source": [
        "Сравним результаты двух подходов:"
      ]
    },
    {
      "cell_type": "code",
      "metadata": {
        "id": "oU61YXBmiskG",
        "colab_type": "code",
        "colab": {
          "base_uri": "https://localhost:8080/",
          "height": 697
        },
        "outputId": "ee84d6f6-aac3-4919-d9e1-14cfdc4ae2c3"
      },
      "source": [
        "eps = 1e-2\n",
        "equals = []\n",
        "for sample in data:\n",
        "    print(f\"------------------------------>{sample['id']}<------------------------------\")\n",
        "    auto_res = calculate_dinput(sample)\n",
        "    print('Autograd result (dx1, dx2):', auto_res)\n",
        "    an_res = an_calc(sample)\n",
        "    print('Analytics result (dx1, dx2):', an_res, end='\\n\\n')\n",
        "    equals.append(\n",
        "        max(r1 - r2 for r1, r2 in zip(auto_res, an_res)) < eps\n",
        "    )"
      ],
      "execution_count": 36,
      "outputs": [
        {
          "output_type": "stream",
          "text": [
            "------------------------------>1<------------------------------\n",
            "Autograd result (dx1, dx2): (1.560255765914917, 2.0092973709106445)\n",
            "Analytics result (dx1, dx2): (1.5602527278685892, 2.009293533654357)\n",
            "\n",
            "------------------------------>2<------------------------------\n",
            "Autograd result (dx1, dx2): (4.967437744140625, 3.0528149604797363)\n",
            "Analytics result (dx1, dx2): (4.967455229688486, 3.0528259848035244)\n",
            "\n",
            "------------------------------>3<------------------------------\n",
            "Autograd result (dx1, dx2): (1397.6683349609375, 1626.5355224609375)\n",
            "Analytics result (dx1, dx2): (1397.6120491079353, 1626.470009814866)\n",
            "\n",
            "------------------------------>4<------------------------------\n",
            "Autograd result (dx1, dx2): (59.70182418823242, 46.43809509277344)\n",
            "Analytics result (dx1, dx2): (59.70129428536023, 46.43768117410152)\n",
            "\n",
            "------------------------------>5<------------------------------\n",
            "Autograd result (dx1, dx2): (91.28832244873047, 85.26869201660156)\n",
            "Analytics result (dx1, dx2): (91.28769199037868, 85.26810000143273)\n",
            "\n",
            "------------------------------>6<------------------------------\n",
            "Autograd result (dx1, dx2): (-0.7811861038208008, -0.6984622478485107)\n",
            "Analytics result (dx1, dx2): (-0.7811864935008297, -0.6984625563903151)\n",
            "\n",
            "------------------------------>7<------------------------------\n",
            "Autograd result (dx1, dx2): (-0.356972873210907, -0.3496030867099762)\n",
            "Analytics result (dx1, dx2): (-0.356972939134495, -0.34960318555630243)\n",
            "\n",
            "------------------------------>8<------------------------------\n",
            "Autograd result (dx1, dx2): (0.45325127243995667, 0.2956584393978119)\n",
            "Analytics result (dx1, dx2): (0.4532510063965127, 0.29565827214402685)\n",
            "\n",
            "------------------------------>9<------------------------------\n",
            "Autograd result (dx1, dx2): (5.779940605163574, 5.595615863800049)\n",
            "Analytics result (dx1, dx2): (5.7799337998396405, 5.595609083433239)\n",
            "\n",
            "------------------------------>10<------------------------------\n",
            "Autograd result (dx1, dx2): (0.7605778574943542, 0.577911376953125)\n",
            "Analytics result (dx1, dx2): (0.7605771311181139, 0.5779107472958915)\n",
            "\n"
          ],
          "name": "stdout"
        }
      ]
    },
    {
      "cell_type": "code",
      "metadata": {
        "id": "bADv7DpfzcxK",
        "colab_type": "code",
        "colab": {
          "base_uri": "https://localhost:8080/",
          "height": 34
        },
        "outputId": "838de179-f4d2-47b9-f296-f02b19536e66"
      },
      "source": [
        "sum(equals)"
      ],
      "execution_count": 37,
      "outputs": [
        {
          "output_type": "execute_result",
          "data": {
            "text/plain": [
              "9"
            ]
          },
          "metadata": {
            "tags": []
          },
          "execution_count": 37
        }
      ]
    },
    {
      "cell_type": "markdown",
      "metadata": {
        "id": "8uewMALozt-A",
        "colab_type": "text"
      },
      "source": [
        "9 из 10 случаев совпали до порядка 10^-2, в случае с неэквивалентными градиентами, значения этих градиентов довольно большие и погрешность вычислений имеет порядок 10^-1."
      ]
    },
    {
      "cell_type": "markdown",
      "metadata": {
        "id": "HepIgxle0O0r",
        "colab_type": "text"
      },
      "source": [
        "Ответ с помощью метода, использующего автоград."
      ]
    },
    {
      "cell_type": "code",
      "metadata": {
        "id": "9sTeCUesiuMf",
        "colab_type": "code",
        "colab": {}
      },
      "source": [
        "answer = [['id', 'dx1', 'dx2']]\n",
        "for sample in data:\n",
        "    dx1, dx2 = calculate_dinput(sample)\n",
        "    answer.append([sample['id'], dx1, dx2])"
      ],
      "execution_count": 38,
      "outputs": []
    },
    {
      "cell_type": "code",
      "metadata": {
        "id": "NuNJKWXqjVUC",
        "colab_type": "code",
        "colab": {}
      },
      "source": [
        "with open('answer.csv', 'w') as f:\n",
        "    writer = csv.writer(f)\n",
        "    for row in answer:\n",
        "        writer.writerow(row)"
      ],
      "execution_count": 39,
      "outputs": []
    },
    {
      "cell_type": "code",
      "metadata": {
        "id": "Ed8AKerxjVlm",
        "colab_type": "code",
        "colab": {}
      },
      "source": [
        ""
      ],
      "execution_count": null,
      "outputs": []
    }
  ]
}